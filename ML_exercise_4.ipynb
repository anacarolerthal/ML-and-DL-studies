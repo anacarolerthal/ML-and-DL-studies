{
 "cells": [
  {
   "cell_type": "code",
   "execution_count": 1,
   "id": "435db6f4-e15b-4f9b-8cd0-b9b5dedd9e79",
   "metadata": {},
   "outputs": [],
   "source": [
    "import numpy as np\n",
    "from sklearn.cluster import KMeans\n",
    "from sklearn.datasets import fetch_california_housing\n",
    "from sklearn.model_selection import train_test_split\n",
    "import matplotlib.pyplot as plt"
   ]
  },
  {
   "cell_type": "markdown",
   "id": "d3a8837d-5164-4be5-9997-fdd0a687f07e",
   "metadata": {},
   "source": [
    "**Instruções gerais:** Sua submissão <u>deve</u> conter: \n",
    "1. Um \"ipynb\" com seu código e as soluções dos problemas\n",
    "2. Uma versão pdf do ipynb\n",
    "\n",
    "Caso você opte por resolver as questões de \"papel e caneta\" em um editor de $\\LaTeX$ externo, o inclua no final da versão pdf do 'ipynb'--- submetendo um <u>único pdf</u>."
   ]
  },
  {
   "cell_type": "markdown",
   "id": "58678575-bb0a-4ff2-85d2-f1ff100806f2",
   "metadata": {
    "tags": []
   },
   "source": [
    "# Trabalho de casa 04: Seleção de modelo e hiperparametros"
   ]
  },
  {
   "cell_type": "markdown",
   "id": "af932776-d827-4ee8-b749-c1aec78faadf",
   "metadata": {},
   "source": [
    "**1.** O código abaixo carrega o banco de dados *California housing*. Divida o banco de dados em treino, teste e validação. Use o conjunto de validação para escolher o coeficiente de regularização $c$ para um modelo de regressão linear com penalização $L_2$. Use a fórmula analítica para estimar os pesos do modelo de regressão. Plote os MSE no conjunto de trieno e validação em função de $c$. Comente o resultado. Avalie a performance do modelo ótimo no conjunto de teste e também comente."
   ]
  },
  {
   "cell_type": "code",
   "execution_count": 19,
   "id": "21701c8f-7d43-450e-9541-38aec817de0f",
   "metadata": {},
   "outputs": [],
   "source": [
    "SEED = 42\n",
    "np.random.seed(SEED)\n",
    "\n",
    "X, y = fetch_california_housing(return_X_y=True)"
   ]
  },
  {
   "attachments": {},
   "cell_type": "markdown",
   "id": "74eda326",
   "metadata": {},
   "source": [
    "Vamos iniciar dividindo o banco de dados em treino, teste e validação, e montaremos a classe LinearRegression utilizando a forma analítica para a regressão linear com penalização $L_2$."
   ]
  },
  {
   "cell_type": "code",
   "execution_count": 3,
   "id": "81cf7ce8",
   "metadata": {},
   "outputs": [],
   "source": [
    "# splitting in train, test and validation\n",
    "X_train, X_test, y_train, y_test = train_test_split(X, y, test_size=0.2, random_state=SEED)\n",
    "X_train, X_val, y_train, y_val = train_test_split(X_train, y_train, test_size=0.2, random_state=SEED)\n",
    "\n",
    "# linear regression with L2 penalty\n",
    "class LinearRegression:\n",
    "    def __init__(self, c=0.0):\n",
    "        self.c = c\n",
    "        self.w = None\n",
    "        self.ws = []\n",
    "\n",
    "    def fit(self, X, y):\n",
    "        n_samples, n_features = X.shape\n",
    "        X = np.concatenate((np.ones((n_samples, 1)), X), axis=1)\n",
    "        self.w = np.linalg.inv(X.T.dot(X) + self.c * np.eye(n_features + 1)).dot(X.T).dot(y)\n",
    "        self.ws.append(self.w)\n",
    "    \n",
    "        \n",
    "    def predict(self, X):\n",
    "        n_samples, _ = X.shape\n",
    "        X = np.concatenate((np.ones((n_samples, 1)), X), axis=1)\n",
    "        return X.dot(self.w)"
   ]
  },
  {
   "attachments": {},
   "cell_type": "markdown",
   "id": "d67e4474",
   "metadata": {},
   "source": [
    "Agora plotaremos os MSEs para vários valores de $c$ no conjunto de treino:"
   ]
  },
  {
   "cell_type": "code",
   "execution_count": 23,
   "id": "3b02c055",
   "metadata": {},
   "outputs": [
    {
     "data": {
      "image/png": "[encoded data removed]",
      "text/plain": [
       "<Figure size 432x288 with 1 Axes>"
      ]
     },
     "metadata": {
      "needs_background": "light"
     },
     "output_type": "display_data"
    },
    {
     "data": {
      "text/plain": [
       "[0.5129053351430599,\n",
       " 0.5139391663484985,\n",
       " 0.5162297771707892,\n",
       " 0.5190492455161713,\n",
       " 0.5250098646237105,\n",
       " 0.5378016026119727,\n",
       " 0.5535211569475829,\n",
       " 0.567648751682183,\n",
       " 0.5713523547514842,\n",
       " 0.5760669380179653,\n",
       " 0.5776589761566825,\n",
       " 0.5799936458116461]"
      ]
     },
     "execution_count": 23,
     "metadata": {},
     "output_type": "execute_result"
    }
   ],
   "source": [
    "c_values = [0, 0.1, 0.2, 0.3, 0.5, 1.0, 2, 4, 5, 7, 8, 10]\n",
    "\n",
    "# train model for different values of c\n",
    "mse_train = []\n",
    "\n",
    "for c in c_values:\n",
    "    model = LinearRegression(c=c)\n",
    "    model.fit(X_train, y_train)\n",
    "    y_pred = model.predict(X_train)\n",
    "    # compute mse\n",
    "    mse_train.append(np.mean((y_pred - y_train) ** 2))\n",
    "\n",
    "# plot\n",
    "plt.plot(c_values, mse_train)\n",
    "plt.xlabel('c')\n",
    "plt.ylabel('mse')\n",
    "plt.show()\n",
    "mse_train"
   ]
  },
  {
   "attachments": {},
   "cell_type": "markdown",
   "id": "980e4293",
   "metadata": {},
   "source": [
    "Observe que conforme aumentamos o $c$, o MSE aumenta, indicando que não utilizar o $c$ (isto é, $c=0$) é a melhor escolha. Abaixo fazemos uma checagem rápida para verificar se a norma dos pesos está diminuindo conforme aumentamos o valor de $c$:"
   ]
  },
  {
   "cell_type": "code",
   "execution_count": 14,
   "id": "7fdb2945",
   "metadata": {},
   "outputs": [
    {
     "name": "stdout",
     "output_type": "stream",
     "text": [
      "[32.38811355980463, 29.04385751907649, 26.326739876803508, 22.18004933164637, 15.923996287396049, 10.206098421273795, 5.993625985634436, 4.993637675699369, 3.780934710181593, 3.38825042881348, 2.8309751937456094]\n"
     ]
    }
   ],
   "source": [
    "# checking if norm of weights is decreasing as c increases\n",
    "weight_norms = []\n",
    "for c in c_values:\n",
    "    model = LinearRegression(c=c)\n",
    "    model.fit(X_train, y_train)\n",
    "    weight_norms.append(np.linalg.norm(model.w))\n",
    "print(weight_norms)"
   ]
  },
  {
   "attachments": {},
   "cell_type": "markdown",
   "id": "9f6051c2",
   "metadata": {},
   "source": [
    "De fato ela está, indicando que o processo é correto. Fazemos a plotagem dos MSEs para o conjunto de validação:"
   ]
  },
  {
   "cell_type": "code",
   "execution_count": 15,
   "id": "9043ccf8",
   "metadata": {},
   "outputs": [
    {
     "data": {
      "image/png": "[encoded data removed]",
      "text/plain": [
       "<Figure size 432x288 with 1 Axes>"
      ]
     },
     "metadata": {
      "needs_background": "light"
     },
     "output_type": "display_data"
    }
   ],
   "source": [
    "# validation\n",
    "mse_validation = []\n",
    "\n",
    "for c in c_values:\n",
    "    model = LinearRegression(c=c)\n",
    "    model.fit(X_train, y_train)\n",
    "    y_pred = model.predict(X_val)\n",
    "    # compute mse\n",
    "    mse_validation.append(np.mean((y_pred - y_val) ** 2))\n",
    "\n",
    "# plot\n",
    "plt.plot(c_values, mse_validation)\n",
    "plt.xlabel('c')\n",
    "plt.ylabel('mse')\n",
    "plt.show()"
   ]
  },
  {
   "attachments": {},
   "cell_type": "markdown",
   "id": "64f7f586",
   "metadata": {},
   "source": [
    "Obtivemos resultado semelhante: nesse caso, não utilizar penaties é melhor. Por fim, fazemos o cálculo do MSE para o melhor valor de $c$ no conjunto de teste:"
   ]
  },
  {
   "cell_type": "code",
   "execution_count": 17,
   "id": "5c33ff11",
   "metadata": {},
   "outputs": [
    {
     "name": "stdout",
     "output_type": "stream",
     "text": [
      "0.5544725485140232\n"
     ]
    }
   ],
   "source": [
    "# test\n",
    "model = LinearRegression(c=0.0)\n",
    "model.fit(X_train, y_train)\n",
    "y_pred = model.predict(X_test)\n",
    "mse_test = np.mean((y_pred - y_test) ** 2)\n",
    "print(mse_test)"
   ]
  },
  {
   "attachments": {},
   "cell_type": "markdown",
   "id": "4d246256",
   "metadata": {},
   "source": [
    "O erro é baixo, e nos mostra que, de fato, utilizar $c=0$ é uma boa escolha. Essa questão pode ser justificada pelo fato de que temos um banco de dados muito grande, em que não há ganho em queda de variância, e estamos aumentando o viés sem trazer benefícios, então aumentar o $c$ não é uma boa escolha."
   ]
  },
  {
   "cell_type": "markdown",
   "id": "54935fda-2b5b-462e-87fa-897e97408f29",
   "metadata": {},
   "source": [
    "**2.** Implemente 5-fold *nested cross validation* para escolher entre os métodos $k$-NN e regressão linear com regularização $L_2$ (similar ao exercício acima). Considere $k \\in \\{1, 2, 3, 4, 5\\}$ e $c \\in \\{0, 1, 10, 100\\}$. Use o mesmo banco de dados do último exercício e comente o resultado. Em média, qual valor de hiperparametro resulta na melhor performance para o método escolhido?\n",
    "\n",
    "Obs.: para simplificar sua vida, use o $k$-NN para regressão do scikit-learning com distância euclidiana."
   ]
  },
  {
   "attachments": {},
   "cell_type": "markdown",
   "id": "4595a48a",
   "metadata": {},
   "source": [
    "Faremos abaixo a implementação de uma função que implementa os métodos $k$-NN e regressão linear com regularização $L_2$ para cada $k$ e $c$ indicado e retorna os MSEs:"
   ]
  },
  {
   "cell_type": "code",
   "execution_count": 237,
   "id": "3c0c1a11-7e42-4f54-af38-c6cde8cf5b7d",
   "metadata": {},
   "outputs": [],
   "source": [
    "# get knn from sklearn\n",
    "from sklearn.neighbors import KNeighborsRegressor\n",
    "\n",
    "# pre defined values\n",
    "c = 1\n",
    "k = 1\n",
    "cs = [0, 1, 10, 100]\n",
    "ks = [1, 2, 3, 4, 5]\n",
    "models = [KNeighborsRegressor(n_neighbors=k, weights='distance'), LinearRegression(c=c)]\n",
    "\n",
    "# function to check the performance of the models\n",
    "def check_method(X_train, y_train, X_test, y_test, linear_mse, knn_mse):\n",
    "    models = ['linear', 'knn']\n",
    "\n",
    "    for model in models:\n",
    "        # linear regression\n",
    "        if model == 'linear':\n",
    "            for i, c in enumerate(cs):\n",
    "                model = LinearRegression(c=c)\n",
    "                model.fit(X_train, y_train)\n",
    "                y_pred = model.predict(X_test)\n",
    "                # compute mse\n",
    "                mse = np.mean((y_pred - y_test) ** 2)\n",
    "                linear_mse[i]+=mse\n",
    "\n",
    "        # knn  \n",
    "        else:\n",
    "            for i, k in enumerate(ks):\n",
    "                model = KNeighborsRegressor(n_neighbors=k)\n",
    "                model.fit(X_train, y_train)\n",
    "                y_pred = model.predict(X_test)\n",
    "                # compute mse\n",
    "                mse = np.mean((y_pred - y_test) ** 2)\n",
    "                knn_mse[i]+=mse\n",
    "\n",
    "    return linear_mse, knn_mse"
   ]
  },
  {
   "attachments": {},
   "cell_type": "markdown",
   "id": "a34b2b5a",
   "metadata": {},
   "source": [
    "Agora implementamos o 5-fold *nested cross validation*, e utilizamos a função acima para calcular os MSEs para cada $k$ e $c$:"
   ]
  },
  {
   "cell_type": "code",
   "execution_count": 236,
   "id": "86f79e90",
   "metadata": {},
   "outputs": [],
   "source": [
    "# nested cross validation to get the best model and its parameters\n",
    "\n",
    "indexes = [0, int(X.shape[0]/5) , int(2* X.shape[0]/5), int(3*X.shape[0]/5), int(4*X.shape[0]/5), int(X.shape[0])]\n",
    "count = 0\n",
    "\n",
    "linear_mse = [0, 0, 0, 0]\n",
    "knn_mse = [0, 0, 0, 0, 0]\n",
    "\n",
    "for i in indexes:\n",
    "    if i == int(X.shape[0]):\n",
    "        break\n",
    "    i_2 = indexes[count+1]\n",
    "\n",
    "    # split data in train and test\n",
    "    X_test = X[i:i_2]\n",
    "    y_test = y[i:i_2]\n",
    "    X_train = np.concatenate((X[:i], X[i_2:]))\n",
    "    y_train = np.concatenate((y[:i], y[i_2:]))\n",
    "    count += 1\n",
    "    \n",
    "    # split train in validation and train\n",
    "    indexes_2 = [0, int(X_train.shape[0]/5) , int(2* X_train.shape[0]/5), int(3*X_train.shape[0]/5), int(4*X_train.shape[0]/5), int(X_train.shape[0])]\n",
    "    count_2 = 0\n",
    "    for j in indexes_2:\n",
    "        if j == int(X_train.shape[0]):\n",
    "            break\n",
    "        j_2 = indexes_2[count_2+1]\n",
    "\n",
    "        # split data\n",
    "        X_val = X_train[j:j_2]\n",
    "        y_val = y_train[j:j_2]\n",
    "        X_train_2 = np.concatenate((X_train[:j], X_train[j_2:]))\n",
    "        y_train_2 = np.concatenate((y_train[:j], y_train[j_2:]))\n",
    "        count_2 += 1\n",
    "\n",
    "        # check the performance of the models\n",
    "        linear_mse, knn_mse = check_method(X_train_2, y_train_2, X_val, y_val, linear_mse, knn_mse)"
   ]
  },
  {
   "attachments": {},
   "cell_type": "markdown",
   "id": "63ad09e6",
   "metadata": {},
   "source": [
    "Por fim, escolhemos o melhor método e o melhor valor de hiperparâmetro para cada método, calculando os MSEs médios e escolhendo o menor:"
   ]
  },
  {
   "cell_type": "code",
   "execution_count": 239,
   "id": "1034bc56",
   "metadata": {},
   "outputs": [
    {
     "name": "stdout",
     "output_type": "stream",
     "text": [
      "The best method is Linear Regression with parameter 0\n"
     ]
    }
   ],
   "source": [
    "# get mean of mse\n",
    "linear_mse = [mse/5 for mse in linear_mse]\n",
    "knn_mse = [mse/5 for mse in knn_mse]\n",
    "\n",
    "# concatenate mse\n",
    "mse = linear_mse + knn_mse\n",
    "\n",
    "# get best parameter\n",
    "best_parameter = None\n",
    "best_mse = None\n",
    "\n",
    "for i, mse in enumerate(mse):\n",
    "    if best_mse is None or mse < best_mse:\n",
    "        best_mse = mse\n",
    "        if i < 4:\n",
    "            best_parameter = cs[i]\n",
    "            best_method = 'Linear Regression'\n",
    "        else:\n",
    "            best_parameter = ks[i-4]\n",
    "            best_method = 'kNN'\n",
    "\n",
    "print('The best method is', best_method, 'with parameter', best_parameter)"
   ]
  },
  {
   "attachments": {},
   "cell_type": "markdown",
   "id": "a5d2b44a",
   "metadata": {},
   "source": [
    "Obtivemos que o melhor método é o da Regressão Linear, utilizando parâmetro $c=0$, conforme esperado, já que havíamos obtido esse resultado no exercício anterior (de que para a regressão linear com penalização $L_2$ nesse banco de dados, o melhor valor de $c$ é $0$)."
   ]
  },
  {
   "cell_type": "markdown",
   "id": "8f268c40-0ccb-4420-9100-4cb669d98521",
   "metadata": {},
   "source": [
    "# Exercício de \"papel e caneta\""
   ]
  },
  {
   "attachments": {},
   "cell_type": "markdown",
   "id": "adf3e1ec-14cd-4bf8-bea4-20c06de871f3",
   "metadata": {
    "tags": []
   },
   "source": [
    "**1.** Nas nota de aula, derivamos o \"dilema viés-variância\" calculando o MSE esperado entre a função alvo de aprendizado $f$ e a predição do nosos modelo $h_{\\mathcal{D}}$:\n",
    "\n",
    "$$\n",
    "\\mathbb{E}_{x, \\mathcal{D}} \n",
    "    \\left[ \n",
    "        \\left( \n",
    "        h_{\\mathcal{D}}(x) - f\\left(x\\right) \n",
    "        \\right)^2\n",
    "    \\right] =\n",
    "\\mathbb{E}_{x}[\\underbrace{\\textrm{Var}_{\\mathcal{D}}[\n",
    "        h_{\\mathcal{D}}(x)]}_{\\text{ Variância} }] + \\mathbb{E}_{x} [ (\\underbrace{\\mathbb{E}_{\\mathcal{D}}[\n",
    "        h_{\\mathcal{D}}(x) - f\\left(x\\right)]  }_{\\text{Viés}})^2] \n",
    "    ].\n",
    "$$\n",
    "\n",
    "Com isso em mente, adapte nossa derivação para o caso em que as respostas de teste $f(x)$ são corrompidas por um ruído aditivo aleatório $\\epsilon$ com média zero, i.e., ovbservamos $f^\\prime(x) = f(x) + \\epsilon$. Mais concretamente, trabalhe a seguinte esperança para derivar uma decomposição similar à da nota de aula:\n",
    "$$\n",
    "\\mathbb{E}_{x, \\epsilon, \\mathcal{D}} \n",
    "    \\left[\n",
    "        \\left( \n",
    "        h_{\\mathcal{D}}(x) - f^\\prime\\left(x\\right).\n",
    "        \\right)^2\n",
    "    \\right] \n",
    "$$\n",
    "\n",
    "Compare a diferença entre a decomposição que você obteve e a da nota de aula.\n",
    "\n",
    "Dica: sua decomposição deve se diferenciar da acima em apenas um termo aditivo, que envolve uma esperança sobre $x$ e $y$."
   ]
  },
  {
   "attachments": {},
   "cell_type": "markdown",
   "id": "d95b25d6",
   "metadata": {},
   "source": [
    "**Resposta:**\n",
    "\n",
    "Partiremos da seguinte esperança:\n",
    "$$\\mathbb{E}_{x, \\epsilon, \\mathcal{D}} [\\left(h_{\\mathcal{D}}(x) - f^\\prime\\left(x\\right)\\right)^2]=$$\n",
    "$$\\mathbb{E}_{x, \\epsilon, \\mathcal{D}} [\\left(h_{\\mathcal{D}}(x) - (f\\left(x\\right)+ \\epsilon) \\right)^2]=$$\n",
    "$$\\mathbb{E}_{x, \\epsilon, \\mathcal{D}} [h_{\\mathcal{D}}(x)^2 - 2 h_{\\mathcal{D}}(x)(f\\left(x\\right)+\\epsilon) + (f\\left(x\\right)+\\epsilon)^2]$$\n",
    "\n",
    "Queremos completar quadrados, então somaremos $\\mathbb{E}_{x, \\epsilon}[ \\mathbb{E}_{\\mathcal{D}}[ h_{\\mathcal{D}} (x) ]^2 ] - \\mathbb{E}_{x, \\epsilon}[ \\mathbb{E}_{\\mathcal{D}}[ h_{\\mathcal{D}} (x) ]^2 ] $ dos dois lados e teremos:\n",
    "\n",
    "$$\\mathbb{E}_{x, \\epsilon, \\mathcal{D}}[  h_{\\mathcal{D}} (x)^2 -  2 h_{\\mathcal{D}} (x)(f(x)+ \\epsilon) +(f(x)+ \\epsilon)^2 ] \n",
    "+ \\mathbb{E}_{x, \\epsilon}[ \\mathbb{E}_{\\mathcal{D}}[  h_{\\mathcal{D}} (x) ]^2  ] - \\mathbb{E}_{x, \\epsilon}[ \\mathbb{E}_{\\mathcal{D}}[ h_{\\mathcal{D}} (x) ]^2 ] = $$\n",
    "\n",
    "$$\\mathbb{E}_{x, \\epsilon} [\\mathbb{E}_{ \\mathcal{D}} [  h_{\\mathcal{D}} (x)^2 ] - \\mathbb{E}_{\\mathcal{D}} [h_{\\mathcal{D}} (x) ]^2  ]  + \\mathbb{E}_{x, \\epsilon}[ \\mathbb{E}_{\\mathcal{D}}[  h_{\\mathcal{D}} (x) ]^2  -2  \\mathbb{E}_{\\mathcal{D}} [h_{\\mathcal{D}} (x) ( f(x)+\\epsilon)] + ( f(x)+\\epsilon)^2 ] = $$\n",
    "\n",
    "Aqui reconhecemos a variância $\\mathbb{E}_{x, \\epsilon} [\\mathbb{E}_{ \\mathcal{D}} [  h_{\\mathcal{D}} (x)^2 ] - \\mathbb{E}_{\\mathcal{D}} [h_{\\mathcal{D}} (x) ]^2  ]$\n",
    "\n",
    "$$ \\mathbb{E}_{x}[ var_{ \\mathcal{D}} [  h_{\\mathcal{D}}(x)] ] + \\mathbb{E}_{x, \\epsilon}[ \\mathbb{E}_{\\mathcal{D}}[  h_{\\mathcal{D}} (x) ]^2  -2  \\mathbb{E}_{\\mathcal{D}} [h_{\\mathcal{D}} (x) ( f(x)+\\epsilon)] + ( f(x)+\\epsilon)^2 ] =$$\n",
    "$$ \\mathbb{E}_{x}[ var_{ \\mathcal{D}} [  h_{\\mathcal{D}}(x)]]  + \\mathbb{E}_{x, \\epsilon}[ \\mathbb{E}_{\\mathcal{D}}[  h_{\\mathcal{D}} (x) ]^2  -2  \\mathbb{E}_{\\mathcal{D}} [h_{\\mathcal{D}} (x) f(x)+ h_{\\mathcal{D}} (x)\\epsilon)] + f(x)^2 +2f(x)\\epsilon +\\epsilon^2 ] =$$\n",
    "\n",
    "$$ \\mathbb{E}_{x}[ var_{ \\mathcal{D}} [  h_{\\mathcal{D}}(x)]]  + \\mathbb{E}_{x, \\epsilon}[ \\mathbb{E}_{\\mathcal{D}}[  h_{\\mathcal{D}} (x) ]^2  -2  \\mathbb{E}_{\\mathcal{D}} [h_{\\mathcal{D}} (x) f(x)] -2\\mathbb{E}_{\\mathcal{D}} [ h_{\\mathcal{D}} (x)\\epsilon)] + f(x)^2 +2f(x)\\epsilon +\\epsilon^2 ] =$$\n",
    "\n",
    "$$ \\mathbb{E}_{x}[ var_{ \\mathcal{D}} [  h_{\\mathcal{D}}(x)]]   + \\mathbb{E}_{x, \\epsilon}[ (\\mathbb{E}_{\\mathcal{D}}[  h_{\\mathcal{D}} (x) ]- f(x))^2]\n",
    "+ \\mathbb{E}_{x, \\epsilon, \\mathcal{D}}[2 f(x) \\epsilon- 2 h_{\\mathcal{D}}(x) \\epsilon +\\epsilon^2 ] =$$\n",
    "\n",
    "Note que a equação está tomando um formato semelhante ao que conhecemos!\n",
    "\n",
    "$$ \\mathbb{E}_{x}[ var_{ \\mathcal{D}} [  h_{\\mathcal{D}}(x)]]   + \\mathbb{E}_{x}[ (\\mathbb{E}_{\\mathcal{D}}[  h_{\\mathcal{D}} (x) ]- f(x))^2]\n",
    "+ \\mathbb{E}_{x, \\mathcal{D}}[2 f(x)\\mathbb{E}_{\\epsilon} \\epsilon- 2 h_{\\mathcal{D}}(x)\\mathbb{E}_{\\epsilon}  [\\epsilon] +\\mathbb{E}_{\\epsilon} [\\epsilon^2] ] =$$\n",
    "\n",
    "Como os ruídos tem média zero, $\\mathbb{E}_{\\epsilon} [\\epsilon] = 0$, então:\n",
    "\n",
    "$$ \\mathbb{E}_{x}[ var_{ \\mathcal{D}} [  h_{\\mathcal{D}}(x)]]   + \\mathbb{E}_{x}[ (\\mathbb{E}_{\\mathcal{D}}[  h_{\\mathcal{D}} (x) ]- f(x))^2]\n",
    "+ \\mathbb{E}_{x, \\mathcal{D}}[\\mathbb{E}_{\\epsilon} [\\epsilon^2] ] =$$\n",
    "$$ \\mathbb{E}_{x}[ var_{ \\mathcal{D}} [  h_{\\mathcal{D}}(x)]]   + \\mathbb{E}_{x}[ (\\mathbb{E}_{\\mathcal{D}}[  h_{\\mathcal{D}} (x) ]- f(x))^2]\n",
    "+ var_{\\epsilon}(\\epsilon)$$\n",
    "\n",
    "Na prática, obtivemos a mesma expressão, mas adicionamos a variância do ruído $\\epsilon$.\n"
   ]
  }
 ],
 "metadata": {
  "kernelspec": {
   "display_name": "Python 3 (ipykernel)",
   "language": "python",
   "name": "python3"
  },
  "language_info": {
   "codemirror_mode": {
    "name": "ipython",
    "version": 3
   },
   "file_extension": ".py",
   "mimetype": "text/x-python",
   "name": "python",
   "nbconvert_exporter": "python",
   "pygments_lexer": "ipython3",
   "version": "3.10.7"
  }
 },
 "nbformat": 4,
 "nbformat_minor": 5
}
