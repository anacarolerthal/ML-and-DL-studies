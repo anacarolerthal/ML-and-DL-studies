{
 "cells": [
  {
   "attachments": {},
   "cell_type": "markdown",
   "id": "f933bbe7",
   "metadata": {},
   "source": [
    "## Ana Carolina Erthal"
   ]
  },
  {
   "cell_type": "code",
   "execution_count": 1,
   "id": "435db6f4-e15b-4f9b-8cd0-b9b5dedd9e79",
   "metadata": {},
   "outputs": [],
   "source": [
    "import numpy as np\n",
    "import matplotlib.pyplot as plt\n",
    "from sklearn.datasets import load_breast_cancer\n",
    "import torch \n",
    "import torch.nn.functional as F\n",
    "from torch.autograd.functional import hessian\n",
    "from torch.distributions.multivariate_normal import MultivariateNormal\n",
    "import seaborn as sns\n",
    "\n",
    "# remove warnings\n",
    "import warnings\n",
    "warnings.filterwarnings('ignore')"
   ]
  },
  {
   "cell_type": "markdown",
   "id": "d3a8837d-5164-4be5-9997-fdd0a687f07e",
   "metadata": {},
   "source": [
    "**Instruções gerais:** Sua submissão <u>deve</u> conter: \n",
    "1. Um \"ipynb\" com seu código e as soluções dos problemas\n",
    "2. Uma versão pdf do ipynb\n",
    "\n",
    "Caso você opte por resolver as questões de \"papel e caneta\" em um editor de $\\LaTeX$ externo, o inclua no final da versão pdf do 'ipynb'--- submetendo um <u>único pdf</u>."
   ]
  },
  {
   "cell_type": "markdown",
   "id": "58678575-bb0a-4ff2-85d2-f1ff100806f2",
   "metadata": {
    "tags": []
   },
   "source": [
    "# Trabalho de casa 03: Regressão logística e inferência Bayesiana aproximada"
   ]
  },
  {
   "cell_type": "markdown",
   "id": "af932776-d827-4ee8-b749-c1aec78faadf",
   "metadata": {},
   "source": [
    "O pedaço de código abaixo carrega o banco de dados 'breast cancer' e adiciona uma coluna de bias. Além disse, ele o particiona em treino e teste.\n",
    "\n",
    "1. Implemente a estimativa de máximo a posteriori para um modelo de regressão logística com priori $\\mathcal{N}(0, c I)$ com $c=100$ usando esse banco de dados;\n",
    "2. Implemente a aproximação de Laplace para o mesmo modelo;\n",
    "3. Implemente uma aproximação variacional usando uma Gaussiana diagonal e o truque da reparametrização;\n",
    "4. Calcule a accuracy no teste para todas as opções acima --- no caso das 2 últimas, a prob predita é $\\int_\\theta p(y|x, \\theta) q(\\theta)$;\n",
    "5. Para cada uma das 3 técnicas, plote um gráfico com a distribuição das entropias para as predições corretas e erradas (separadamente), use a função kdeplot da biblioteca seaborn.\n",
    "6. Comente os resultados, incluindo uma comparação dos gráficos das entropias.\n",
    "\n",
    "Explique sua implementação também! \n",
    "\n",
    "Para facilitar sua vida: use PyTorch, Adam para otimizar (é uma variação SGD) com lr=0.001, use o banco de treino inteiro ao invés de minibatchces, use binary_cross_entropy_with_logits para implementar a -log verossimilhança, use torch.autograd.functional para calcular a Hessiana. Você pode usar as bibliotecas importadas na primeira célula a vontade. Verifique a documentação de binary_cross_entropy_with_logits para garantir que a sua priori está implementada corretamente, preservando as proporções devidas. Use 10000 amostras das aproximações para calcular suas predições."
   ]
  },
  {
   "cell_type": "code",
   "execution_count": 2,
   "id": "21701c8f-7d43-450e-9541-38aec817de0f",
   "metadata": {},
   "outputs": [],
   "source": [
    "data =  load_breast_cancer()\n",
    "N = len(data.data)\n",
    "Ntrain = int(np.ceil(N*0.6))\n",
    "perm = np.random.permutation(len(data.data))\n",
    "X = torch.tensor(data.data).float()\n",
    "X = torch.cat((X, torch.ones((X.shape[0], 1))), axis=1) \n",
    "y = torch.tensor(data.target).float()\n",
    "d = X.shape[1]\n",
    "\n",
    "Xtrain, ytrain = X[perm[:Ntrain]], y[perm[:Ntrain]]\n",
    "Xtest, ytest = X[perm[Ntrain:]], y[perm[Ntrain:]]"
   ]
  },
  {
   "attachments": {},
   "cell_type": "markdown",
   "id": "25edbb94",
   "metadata": {},
   "source": [
    "Criaremos, a princípio, a função de cálculo da entropia que será utilizada posteriormente para as plotagens de densidade de entropia:"
   ]
  },
  {
   "cell_type": "code",
   "execution_count": 3,
   "id": "c229aa65",
   "metadata": {},
   "outputs": [],
   "source": [
    "def entropy(y_prob, y_pred):\n",
    "    right_entropy = []\n",
    "    wrong_entropy = []\n",
    "\n",
    "    for i in range(y_prob.shape[0]):\n",
    "        if y_pred[i] == ytest[i]:\n",
    "            entropy = -y_prob[i] * torch.log(y_prob[i]) - (1-y_prob[i]) * torch.log(1-y_prob[i]) \n",
    "            entropy = entropy.detach().numpy() # makes it an array\n",
    "            entropy = np.nan_to_num(entropy)\n",
    "            right_entropy.append(entropy)\n",
    "        else:\n",
    "            entropy = -y_prob[i] * torch.log(y_prob[i]) - (1-y_prob[i]) * torch.log(1-y_prob[i])\n",
    "            entropy = entropy.detach().numpy() # makes it an array\n",
    "            entropy = np.nan_to_num(entropy)\n",
    "            wrong_entropy.append(entropy) \n",
    "    \n",
    "    right_entropy = np.array(right_entropy)\n",
    "    wrong_entropy = np.array(wrong_entropy)\n",
    "\n",
    "    return right_entropy, wrong_entropy"
   ]
  },
  {
   "attachments": {},
   "cell_type": "markdown",
   "id": "ce496532",
   "metadata": {},
   "source": [
    "Faremos então o código para implementar o método de Máximo a Posteriori. Na prática, queremos encontrar o vetor de pesos para fazermos a predição utilizando o theta que maximiza a posteriori. Assim, partimos da priori fornecida, da verossimilhança calculada a partir dos logits e calculamos a posteriori para, então, otimizar. Note que calculamos, no algoritmo, a posteriori negativa para minimizar (o mesmo que maximizar a própria posteriori), e tudo em logs para possibilitar as contas."
   ]
  },
  {
   "cell_type": "code",
   "execution_count": 4,
   "id": "d1092efb",
   "metadata": {},
   "outputs": [],
   "source": [
    "# maximum a posteriori estimate for logistic regression\n",
    "theta = torch.randn(d, requires_grad=True)\n",
    "optimizer = torch.optim.Adam([theta], lr=0.001) \n",
    "\n",
    "for i in range(10000):\n",
    "    optimizer.zero_grad()\n",
    "\n",
    "    # get the logits between 0 and 1\n",
    "    logits = Xtrain @ theta\n",
    "    neg_log_likelihood = F.binary_cross_entropy_with_logits(logits, ytrain)\n",
    "    # compute the log priori for the Multivariate Normal distribution with mean 0 and covariance = 100*Identity\n",
    "    log_priori = MultivariateNormal(torch.zeros(d), 100*torch.eye(d)).log_prob(theta)\n",
    "    neg_log_post = neg_log_likelihood - log_priori\n",
    "    \n",
    "    neg_log_post.backward()\n",
    "    optimizer.step()"
   ]
  },
  {
   "attachments": {},
   "cell_type": "markdown",
   "id": "f3ba08b4",
   "metadata": {},
   "source": [
    "Nesse caso, é bem simples calcular a acurácia, já que basta calcular as probabilidades diretamente:"
   ]
  },
  {
   "cell_type": "code",
   "execution_count": 5,
   "id": "a8b9a6d3",
   "metadata": {},
   "outputs": [
    {
     "name": "stdout",
     "output_type": "stream",
     "text": [
      "Accuracy on train set:  0.9590643274853801\n"
     ]
    }
   ],
   "source": [
    "y_pred = (torch.sigmoid(Xtrain @ theta)) >= 0.5\n",
    "print(\"Accuracy on train set: \", (y_pred == ytrain).sum().item()/len(ytrain))"
   ]
  },
  {
   "cell_type": "code",
   "execution_count": 6,
   "id": "861c628c",
   "metadata": {},
   "outputs": [
    {
     "name": "stdout",
     "output_type": "stream",
     "text": [
      "Accuracy on test set:  0.933920704845815\n"
     ]
    }
   ],
   "source": [
    "y_prob = torch.sigmoid(Xtest @ theta)\n",
    "y_pred = (y_prob >= 0.5)\n",
    "print(\"Accuracy on test set: \", (y_pred == ytest).sum().item()/len(ytest))"
   ]
  },
  {
   "attachments": {},
   "cell_type": "markdown",
   "id": "1085e02c",
   "metadata": {},
   "source": [
    "Vamos fazer, também, o gráfico de distribuição de entropia para as predições certas e erradas, armazenando os valores em uma lista para em seguida plotar:"
   ]
  },
  {
   "cell_type": "code",
   "execution_count": 8,
   "id": "8a3309bc",
   "metadata": {},
   "outputs": [
    {
     "data": {
      "image/png": "[encoded data removed]",
      "text/plain": [
       "<Figure size 432x288 with 1 Axes>"
      ]
     },
     "metadata": {
      "needs_background": "light"
     },
     "output_type": "display_data"
    }
   ],
   "source": [
    "right_entropy, wrong_entropy = entropy(y_prob, y_pred)\n",
    "\n",
    "sns.distplot(right_entropy, hist=False, kde=True,\n",
    "                kde_kws={'linewidth': 3},\n",
    "                label = 'Corretas')\n",
    "sns.distplot(wrong_entropy, hist=False, kde=True,\n",
    "                kde_kws={'linewidth': 3},\n",
    "                label = 'Erradas')\n",
    "\n",
    "plt.legend(prop={'size': 12})\n",
    "plt.title('Densidade de entropia para as predições')\n",
    "plt.xlabel('Entropia')\n",
    "plt.ylabel('Densidade')\n",
    "plt.show()"
   ]
  },
  {
   "attachments": {},
   "cell_type": "markdown",
   "id": "ceac8722",
   "metadata": {},
   "source": [
    "Faremos agora a aproximação de Laplace para regressão logística. Queremos melhorar o desempenho, então o método consiste em aproximar a posteriori utilizando uma série de Taylor de segunda ordem, e na prática utilizamos a solução do MAP como média e o inverso da hessiana referente a esse theta como parâmetros de uma normal multivariada como posteriori. \n",
    "\n",
    "Para calcular a accuracy, o processo é menos direto que na aplicação anterior, já que não obtemos as probabilidades de que um y pertença a uma classe diretamente, apenas a distribuição a posteriori. Assim, aplicamos Monte Carlo para, a partir das samples dessa distribuição, obtermos as probabilidades para aplicarmos a sigmoide e termos a predição. "
   ]
  },
  {
   "cell_type": "code",
   "execution_count": 10,
   "id": "8de9c4df",
   "metadata": {},
   "outputs": [
    {
     "name": "stdout",
     "output_type": "stream",
     "text": [
      "Accuracy on train set:  0.9619883040935673\n"
     ]
    }
   ],
   "source": [
    "# laplace approximation for logistic regression\n",
    "\n",
    "def posteriori(theta):\n",
    "    logits = Xtrain @ theta\n",
    "    neg_log_likelihood = F.binary_cross_entropy_with_logits(logits, ytrain)\n",
    "    log_priori = MultivariateNormal(torch.zeros(d), 100*torch.eye(d)).log_prob(theta)\n",
    "    return neg_log_likelihood - log_priori\n",
    "\n",
    "hess = hessian(posteriori, theta)\n",
    "\n",
    "# mean and covariance of the laplace approximation\n",
    "mean = theta.detach().numpy().copy()\n",
    "cov = torch.inverse(hess).detach().numpy().copy()\n",
    "\n",
    "T = 10000\n",
    "\n",
    "# monte carlo sampling from the laplace approximation\n",
    "samples = np.random.multivariate_normal(mean, cov, size=T)\n",
    "Xtheta = Xtrain @ torch.tensor(samples).float().t()\n",
    "\n",
    "# gets the probability of the samples\n",
    "y_prob = torch.sigmoid(Xtheta).mean(axis=1)\n",
    "y_pred = torch.tensor(y_prob) >= 0.5\n",
    "print(\"Accuracy on train set: \", (y_pred==ytrain).sum().item()/len(ytrain))\n",
    "    "
   ]
  },
  {
   "attachments": {},
   "cell_type": "markdown",
   "id": "8feb93b2",
   "metadata": {},
   "source": [
    "Agora obtendo a acurácia para o conjunto de treino:"
   ]
  },
  {
   "cell_type": "code",
   "execution_count": 11,
   "id": "a4525c15",
   "metadata": {},
   "outputs": [
    {
     "name": "stdout",
     "output_type": "stream",
     "text": [
      "Accuracy on test set:  0.9295154185022027\n"
     ]
    }
   ],
   "source": [
    "Xtheta = Xtest @ torch.tensor(samples).float().t()\n",
    "\n",
    "#get the probability of the samples\n",
    "y_prob = torch.sigmoid(Xtheta).mean(axis=1)\n",
    "y_pred = torch.tensor(y_prob) >= 0.5\n",
    "print(\"Accuracy on test set: \", (y_pred==ytest).sum().item()/len(ytest))"
   ]
  },
  {
   "attachments": {},
   "cell_type": "markdown",
   "id": "de669bdc",
   "metadata": {},
   "source": [
    "Faremos, também, o gráfico da densidade de entropia:"
   ]
  },
  {
   "cell_type": "code",
   "execution_count": 12,
   "id": "a36080ae",
   "metadata": {},
   "outputs": [
    {
     "data": {
      "image/png": "[encoded data removed]",
      "text/plain": [
       "<Figure size 432x288 with 1 Axes>"
      ]
     },
     "metadata": {
      "needs_background": "light"
     },
     "output_type": "display_data"
    }
   ],
   "source": [
    "right_entropy, wrong_entropy = entropy(y_prob, y_pred)\n",
    "\n",
    "sns.distplot(right_entropy, hist=False, kde=True,\n",
    "                kde_kws={'linewidth': 3},\n",
    "                label = 'Corretas')\n",
    "sns.distplot(wrong_entropy, hist=False, kde=True,\n",
    "                kde_kws={'linewidth': 3},\n",
    "                label = 'Erradas')\n",
    "\n",
    "plt.legend(prop={'size': 12})\n",
    "plt.title('Densidade de entropia para as predições')\n",
    "plt.xlabel('Entropia')\n",
    "plt.ylabel('Densidade')\n",
    "plt.show()"
   ]
  },
  {
   "attachments": {},
   "cell_type": "markdown",
   "id": "db2c6534",
   "metadata": {},
   "source": [
    "Por fim, faremos a implementação da regressão logística com inferência variacional, onde faremos uma aproximação da posteriori p com uma distribuição q, e tentaremos minimizar a divergência KL entre elas. Assim, começamos escolhendo os parâmetros utilizados na reparametrização para essa aproximação pela q, e definindo o otimizador Adam (assim como nas anteriores) para esses parâmetros, porém desta vez com um learning rate de 0.01, já que o recomendado não foi um bom hiperparâmetro nesse caso. Na prática, o que fazemos é minimizar a divergência KL, obtendo mu e c para, então, utilizá-los como média e variância de uma normal multivariada, obtendo as samples que buscamos para encontrarmos as probabilidades de que a predição pertença a uma classe ou outra utilizando Monte Carlo, como anteriormente, para por fim encontrarmos a accuracy."
   ]
  },
  {
   "cell_type": "code",
   "execution_count": 13,
   "id": "9ab8c3c4",
   "metadata": {},
   "outputs": [
    {
     "name": "stdout",
     "output_type": "stream",
     "text": [
      "Accuracy on test set:  0.8942731277533039\n"
     ]
    }
   ],
   "source": [
    "# variational inference for logistic regression\n",
    "\n",
    "mu = torch.randn(d, requires_grad=True)\n",
    "c = torch.randn(d, requires_grad=True)\n",
    "\n",
    "optimizer = torch.optim.Adam([mu, c], lr=0.01)\n",
    "\n",
    "T = 100\n",
    "\n",
    "for i in range(1000):\n",
    "    optimizer.zero_grad()\n",
    "\n",
    "    # variance\n",
    "    ss = F.softplus(c)\n",
    "    # sample from the gaussian diagonal distribution\n",
    "    thetas = torch.randn(T, d) @ torch.diag(ss) + mu\n",
    "    loss = 0\n",
    "\n",
    "    for t in range(T):\n",
    "        theta = thetas[t, :]\n",
    "        logits = Xtrain @ theta\n",
    "        \n",
    "       # kullback leibler divergence \n",
    "        neg_log_likelihood = F.binary_cross_entropy_with_logits(logits, ytrain) \n",
    "        log_priori = MultivariateNormal(torch.zeros(d), 100*torch.eye(d)).log_prob(theta) \n",
    "        log_q = MultivariateNormal(mu, ss*torch.eye(d)).log_prob(theta)\n",
    "        \n",
    "        loss += (neg_log_likelihood + log_q - log_priori)/T \n",
    "    \n",
    "    loss.backward()\n",
    "    optimizer.step()\n",
    "\n",
    "ss_cov = ss*torch.eye(d)\n",
    "ss_cov = ss_cov.detach().numpy().copy()\n",
    "mu_np = mu.detach().numpy().copy()\n",
    "\n",
    "# monte carlo\n",
    "samples = np.random.multivariate_normal(mu_np, ss_cov, size=10000)\n",
    "Xtheta = Xtest @ torch.tensor(samples).float().t()\n",
    "\n",
    "# get the probability of the samples\n",
    "y_prob = torch.sigmoid(Xtheta).mean(axis=1)\n",
    "y_pred = torch.tensor(y_prob) >= 0.5\n",
    "print(\"Accuracy on test set: \", (y_pred==ytest).sum().item()/len(ytest))"
   ]
  },
  {
   "attachments": {},
   "cell_type": "markdown",
   "id": "0f709ae2",
   "metadata": {},
   "source": [
    "Por fim, faremos a última plotagem da entropia:"
   ]
  },
  {
   "cell_type": "code",
   "execution_count": 14,
   "id": "65acb475",
   "metadata": {},
   "outputs": [
    {
     "data": {
      "image/png": "[encoded data removed]",
      "text/plain": [
       "<Figure size 432x288 with 1 Axes>"
      ]
     },
     "metadata": {
      "needs_background": "light"
     },
     "output_type": "display_data"
    }
   ],
   "source": [
    "right_entropy, wrong_entropy = entropy(y_prob, y_pred)\n",
    "\n",
    "sns.distplot(right_entropy, hist=False, kde=True,\n",
    "                kde_kws={'linewidth': 3},\n",
    "                label = 'Corretas')\n",
    "sns.distplot(wrong_entropy, hist=False, kde=True,\n",
    "                kde_kws={'linewidth': 3},\n",
    "                label = 'Erradas')\n",
    "\n",
    "plt.legend(prop={'size': 12})\n",
    "plt.title('Densidade de entropia para as predições')\n",
    "plt.xlabel('Entropia')\n",
    "plt.ylabel('Densidade')\n",
    "plt.show()"
   ]
  },
  {
   "attachments": {},
   "cell_type": "markdown",
   "id": "33eed79f",
   "metadata": {},
   "source": [
    "Faremos, por fim, uma discussão sobre os gráficos observados. Quanto mais pra esquerda as curvas se localizam, menor a entropia, então é desejável que a curva dos acertos esteja localizada mais para esquerda (ou minimamente abaixo dos erros no canto direito dos gráficos), já que isso indicaria alta accuracy - mais certeza ao prever corretamente.\n",
    "\n",
    "No primeiro gráfico, do MAP, temos uma entropia 0 com muita frequência para os acertos, o que é justificável pelo fato de que fazemos uma predição pontual e obtemos nosso vetor de pesos final através de iterações com o otimizador, isto é, não quantifica-se a incerteza tão bem quanto nas outras aplicações.\n",
    "\n",
    "No gráfico da aproximação de LaPlace, temos uma quantificação da incerteza melhor com a aproximação da posteriori por uma normal com média no MAP e a matriz de covariância, então ambas as curvas se deslocam para maior entropia, mas ainda temos mais concentração de erros em valores maiores de entropia, mostrando que nosso de fato apresenta mais incerteza nos casos em que acaba fazendo predições incorretas.\n",
    "\n",
    "Por fim, para a inferência variacional, temos um resultado parecido, com valores de entropia maiores que no MAP, mas ainda concentrados nos erros em altos valores, já que o modelo detectava maior confusão nos casos em que errou. Isso é positivo, uma vez que não seria interessante errarmos sem termos noção de que havia maior incerteza para esse ponto."
   ]
  },
  {
   "cell_type": "markdown",
   "id": "8f268c40-0ccb-4420-9100-4cb669d98521",
   "metadata": {},
   "source": [
    "# Exercícios de \"papel e caneta\""
   ]
  },
  {
   "cell_type": "markdown",
   "id": "adf3e1ec-14cd-4bf8-bea4-20c06de871f3",
   "metadata": {
    "tags": []
   },
   "source": [
    "1. Derive a fóruma para a divergência KL entre duas distribuições Gaussianas univariada, i.e., $D_\\text{KL}\\left(\\mathcal{N}(\\mu_1, \\sigma_1^2) \\| \\mathcal{N}(\\mu_2, \\sigma_2^2)\\right)$;\n",
    "\n",
    "2. Suponha que $P$ é a família das distribuições categórica com suporte em $\\{1,\\ldots, L\\}$. Qual $p \\in P$ possui maior entropia? \n",
    "\n",
    "3. Use a desigualdade de Jensen para mostrar que a divergência KL é não-negativa.\n",
    "\n",
    "4. Derive a aproximação de Laplace para a distribuição Beta($\\alpha, \\beta$). Mostre uma fóruma para valores genéricos $\\alpha,\\beta>1$ e a instancie para $\\alpha=\\beta=2$.\n",
    "\n",
    "5. Derive a posteriori para o modelo Bayesiano com verossimilhança Categórica e priori Dirichlet, i.e.:\n",
    "\\begin{alignat}{2}\n",
    "y_1,\\ldots, y_N &\\sim Cat(\\mathbf{\\theta})\\\\\n",
    "\\mathbf{\\theta} &\\sim Dirichlet(\\mathbf{\\alpha})\n",
    "\\end{alignat}\n",
    "onde $\\mathbf{\\theta}$ e $\\mathbf{\\alpha}$ são vetores $L$-dimensionais.\n"
   ]
  },
  {
   "attachments": {},
   "cell_type": "markdown",
   "id": "f07afe30",
   "metadata": {},
   "source": [
    "**Solução 1:**\n",
    "Queremos encontrar $D_\\text{KL}\\left(\\mathcal{N}(\\mu_1, \\sigma_1^2) \\| \\mathcal{N}(\\mu_2, \\sigma_2^2)\\right)$\n",
    "\n",
    "$$D_{KL} (q(\\theta)|| p(\\theta)) = E_{\\theta \\sim q} \\left[ \\log \\frac{q(\\theta)}{p(\\theta)}\\right]$$\n",
    "\n",
    "Colocando as distribuições normais na fórmula:\n",
    "\n",
    "$$E_{\\theta \\sim q} \\left[ \\log \\frac{ \\frac{1}{\\sigma_1 \\sqrt{2\\pi}} \\exp \\frac{-1(\\theta-\\mu_1)^2}{2\\sigma_1^2} } \n",
    "                                     {\\frac{1}{\\sigma_2 \\sqrt{2\\pi}} \\exp \\frac{-1(\\theta-\\mu_2)^2}{2\\sigma_2^2}}\\right] $$\n",
    "\n",
    "$$E_{\\theta \\sim q}\\left[ \\log \\left( \\frac{\\sigma_2}{\\sigma_1} \\right)   + \\left( -\\frac{1}{2} \\frac{(\\theta- \\mu_1)^2}{\\sigma_1^2}+\\frac{1}{2} \\frac{(\\theta- \\mu_2)^2}{\\sigma_2^2}\\right) \\right] $$\n",
    "\n",
    "$$ \\log \\left( \\frac{\\sigma_2}{\\sigma_1} \\right) -\\frac{1}{2} E_{\\theta \\sim q} \\left[ \\frac{(\\theta- \\mu_1)^2}{\\sigma_1^2}\\right] + \\frac{1}{2} E_{\\theta \\sim q} \\left[ \\frac{(\\theta- \\mu_2)^2}{\\sigma_2^2}\\right]$$\n",
    "\n",
    "\n",
    "Expandindo as expressões temos:\n",
    "\n",
    "$$\\log \\left( \\frac{\\sigma_2}{\\sigma_1} \\right)  \n",
    " -\\frac{1}{2\\sigma_1^2 }  E_{\\theta \\sim q}[\\theta^2 -2\\theta\\mu_1 + \\mu_1^2] \n",
    " + \\frac{1}{2\\sigma_2^2 }  E_{\\theta \\sim q}[\\theta^2 -2\\theta\\mu_2 + \\mu_2^2]$$\n",
    "\n",
    "Agora vamos resolver os valores esperados. Para isso, vamos usar propriedades de esperança de uma distribuição normal, mas é importante lembrar que, uma vez que tratamos de $E_{\\theta \\sim q}$, estamos tratando de uma distribuição normal com média $\\mu_1$ e variância $\\sigma_1^2$, então vale que:\n",
    "\n",
    "$$E_{\\theta \\sim q}[\\theta^2] = \\mu_1^2 + \\sigma_1^2$$\n",
    "$$E_{\\theta \\sim q}[\\theta] = \\mu_1$$\n",
    "\n",
    "Assim, podemos continuar:\n",
    "\n",
    "$$\\log \\left( \\frac{\\sigma_2}{\\sigma_1} \\right)  \n",
    " -\\frac{1}{2\\sigma_1^2 } (E_{\\theta \\sim q}[\\theta^2] - 2 E_{\\theta \\sim q}[\\theta\\mu_1]+ E_{\\theta \\sim q}[\\mu_1^2])\n",
    " + \\frac{1}{2\\sigma_2^2 } (E_{\\theta \\sim q}[\\theta^2] - 2 E_{\\theta \\sim q}[\\theta\\mu_2]+ E_{\\theta \\sim q}[\\mu_2^2])$$\n",
    "\n",
    " $$\\log \\left( \\frac{\\sigma_2}{\\sigma_1} \\right)  \n",
    " - \\frac{1}{2\\sigma_1^2 } (\\mu_1^2 + \\sigma_1^2 - 2\\mu_1^2 + \\mu_1^2)\n",
    "    + \\frac{1}{2\\sigma_2^2 } (\\mu_1^2 + \\sigma_1^2 - 2\\mu_1\\mu_2 + \\mu_2^2)\n",
    " $$\n",
    "\n",
    "$$ \\log \\left( \\frac{\\sigma_2}{\\sigma_1} \\right)  \n",
    " - \\frac{1}{2\\sigma_1^2 } (\\sigma_1^2)\n",
    "      + \\frac{1}{2\\sigma_2^2 } (\\sigma_1^2 -(\\mu_1-\\mu_2)^2)\n",
    " $$\n",
    "\n",
    " Assim, temos:\n",
    "\n",
    " $$D_{KL} = \\log \\left( \\frac{\\sigma_2}{\\sigma_1} \\right)  \n",
    " - \\frac{1}{2}\n",
    "      + \\frac{\\sigma_1^2 -(\\mu_1-\\mu_2)^2}{2\\sigma_2^2 } $$\n",
    "\n",
    "**Solução 2:**\n",
    "A intuição desse problema é interessante. Na prática, temos distribuições multibernoulli, mas vejamos para o caso simples: quando temos duas possíveis categorias, no caso em que os casos são equiprováveis (isto é, a chance de obtermos uma categoria é igual a de obtermos a outra, 50%), há mais entropia, porque temos mais incerteza sobre o resultado. Se tivéssemos uma probabilidade de 10% de resultar em uma categoria e 90% para a outra, o grau de incerteza seria menor. No caso extremo, quando tivéssemos certeza de um resultado, a entropia seria nula. Podemos intuir que, para distribuições categóricas teríamos a mesma situação: se a distribuição fosse equiprovável -isto é, uniforme -teríamos a maior entropia possível. Vamos fazer cálculos para mostrar que isso é verdade:\n",
    "\n",
    "Queremos maximizar a entropia, que sabemos ser dada por $- \\Sigma^{L}_{i=1}p_i \\log p_i $. Utilizaremos multiplicadores de Lagrange para isso, já que temos a restrição de que todas as probabilidades somem $1$, ou seja, $\\Sigma^{L}_{i=1}p_i = 1$:\n",
    "\n",
    "$$\\mathcal{L}(p, \\lambda) = - \\Sigma^{L}_{i=1}p_i \\log p_i  -\\lambda (- \\Sigma^{L}_{i=1}p_i+ 1) $$\n",
    "\n",
    "Vamos derivar em relação a cada variável para encontrar $\\nabla \\mathcal{L}(p, \\lambda)$, e igualar a zero:\n",
    "\n",
    "$$ \\frac{\\partial \\mathcal{L}}{\\partial p_i} = -log(p_i) + \\lambda -1 = 0 $$\n",
    "$$ log(p_i) = 1 - \\lambda $$\n",
    "$$e^{1-\\lambda} = p_i$$\n",
    "\n",
    "Vamos substituir esse resultado na equação da restrição (que é a própria derivada em relação a $\\lambda$):\n",
    "\n",
    "$$Le^{1-\\lambda} = 1$$\n",
    "$$ e^{\\lambda - 1} = \\frac{1}{L} $$\n",
    "$$\\lambda = 1 - log(L)$$\n",
    "\n",
    "Substituindo em $\\nabla \\mathcal{L}(p, \\lambda) = 0$:\n",
    "\n",
    "$$-log(p_i) + \\lambda -1 = 0$$\n",
    "$$-log(p_i) + 1 - log(L) -1 = 0$$\n",
    "$$log(p_i) = - log(L)$$\n",
    "$$p_i = \\frac{1}{L}$$\n",
    "\n",
    "Isto é, conforme nossa intuição, cada probabilidade deve ser equipróvavel, igual a $\\frac{1}{L}$, então temos uma distribuição uniforme.\n",
    "\n",
    "\n",
    "**Solução 3:**\n",
    "A desigualdade de Jensen nos diz que a linha secante de uma função convexa está acima do gráfico da função, isto é, no contexto da probabilidade temos $f(E[x])\\leq E[f(x)]$. Utilizaremos esse fato para mostrar que a divergência KL não pode ser negativa. Vejamos:\n",
    "\n",
    "$$D_{KL}(p|q)=E _{x\\sim q}\\left[ -\\log \\frac{p(x)}{q(x)} \\right]$$\n",
    "\n",
    "Note que é desejável escrever dessa forma, utilizando o sinal negativo, já que $\\log$ é uma função côncava, e desejamos convexidade para que possamos usar a desigualdade de Jensen. Utilizando a fórmula, podemos escrever:\n",
    "\n",
    "$$ -\\log  E _{x\\sim q}\\left[ \\frac{p(x)}{q(x)} \\right]  \\leq E _{x\\sim q}\\left[ -\\log \\frac{p(x)}{q(x)} \\right] $$\n",
    "\n",
    "Isto, é:\n",
    "\n",
    "$$-\\log \\int \\frac{p(x)}{q(x)}  q(x) dx   \\leq E _{x\\sim q}\\left[ -\\log \\frac{p(x)}{q(x)} \\right] $$\n",
    "\n",
    "$$-\\log \\int p(x)  dx   \\leq E _{x\\sim q}\\left[ -\\log \\frac{p(x)}{q(x)} \\right] $$\n",
    "\n",
    "Como sabemos que a integral de uma f.d.p. é sempre 1, temos:\n",
    "\n",
    "$$-\\log 1 \\leq E _{x\\sim q}\\left[ -\\log \\frac{p(x)}{q(x)} \\right] $$\n",
    "\n",
    "$$ 0 \\leq E _{x\\sim q}\\left[ -\\log \\frac{p(x)}{q(x)} \\right]$$\n",
    "\n",
    "Assim, concluímos que a divergência KL é sempre não-negativa.\n",
    "\n",
    "\n",
    "**Solução 4:**\n",
    "\n",
    "Sabemos que a moda nesse caso é $m = \\frac{\\alpha -1}{\\alpha +\\beta -2}$ e podemos calcular a hessiana $H4, dada por $H = -\\nabla^2_\\theta \\log \\frac{\\theta^{\\alpha-1}(1-\\theta)^{\\beta-1}}{B(\\alpha, \\beta)}|_{\\theta =m}$. Assim, podemos calcular a segunda derivada em relação a $\\theta$:\n",
    "\n",
    "$$-\\nabla^2_\\theta \\log \\frac{\\theta^{\\alpha-1}(1-\\theta)^{\\beta-1}}{B(\\alpha, \\beta)}$$\n",
    "$$\\nabla_\\theta \\frac{\\alpha-1}{\\theta}- \\frac{\\beta -1}{1-\\theta}$$\n",
    "$$\\frac{\\alpha-1}{\\theta^2}+ \\frac{\\beta -1}{(1-\\theta)^2}$$\n",
    "\n",
    "Avaliada em $\\theta = m$, então:\n",
    "\n",
    "$$\\frac{\\alpha-1}{m^2}+ \\frac{\\beta -1}{(1-m)^2}$$\n",
    "$$\\frac{\\alpha-1}{ (\\frac{\\alpha -1}{\\alpha +\\beta -2})^2} + \\frac{\\beta -1}{(\\frac{\\beta-1}{\\alpha +\\beta -2})^2}$$\n",
    "$$\\frac{(\\alpha + \\beta -2)^2}{\\alpha -1} + \\frac{(\\alpha + \\beta -2)^2}{\\beta -1}$$\n",
    "$$\\frac{(\\alpha + \\beta -2)^2(\\alpha -1)+ (\\alpha + \\beta -2)^2(\\beta -1)}{(\\alpha -1)(\\beta -1)}$$\n",
    "$$\\frac{(\\alpha + \\beta -2)^3}{(\\alpha -1)(\\beta -1)}$$\n",
    "\n",
    "Assim, a hessiana é:\n",
    "\n",
    "$$H = \\frac{(\\alpha + \\beta -2)^3}{(\\alpha -1)(\\beta -1)}$$\n",
    "\n",
    "Assim, aproximamos a Beta, uma distribuiçã $p(\\theta)$, através de Laplace como uma distribuição Gaussiana $q(\\theta)$ e temos:\n",
    "\n",
    "$$ q(\\theta) = N(\\theta|m, H^{-1})$$\n",
    "\n",
    "$$ q(\\theta) = N\\left(\\theta|\\frac{\\alpha -1}{\\alpha +\\beta -2}, \\frac{(\\alpha-1)(\\beta-1)}{(\\alpha+\\beta-2)^3}\\right)$$\n",
    "\n",
    "Por fim, quando $\\alpha = \\beta = 2$, temos:\n",
    "\n",
    "$$ q(\\theta) = N\\left(\\theta|\\frac{1}{2}, \\frac{1}{8}\\right)$$\n",
    "\n",
    "\n",
    "**Solução 5:**\n",
    "\n",
    "Derivaremos uma posteriori a partir de uma priori de Dirichlet e uma verossimilhança Categórica. Assim, buscamos $p(\\theta|x)$:\n",
    "\n",
    "$$p(\\theta|x) \\propto p(x|\\theta)p(\\theta)$$\n",
    "\n",
    "Teremos, para nossa verossimilhança:\n",
    "\\theta\n",
    "$$p(x|\\theta) = \\prod_{i=1}^{n} \\prod_{i=1}^{k} \\theta_i^{[x_j=k]}$$\n",
    "\n",
    "$$p(x|\\theta) = \\prod_{i=1}^{k} \\theta_i^{\\sum_{j=1}^{n}I(x_j=k)}$$\n",
    "\n",
    "Onde I representa a função indicatriz. Vejamos a priori:\n",
    "\n",
    "$$p(\\theta) = \\frac{1}{B(\\alpha)}\\prod_{i=1}^{k} \\theta_i^{\\alpha-1}$$\n",
    "\n",
    "Teremos:\n",
    "\n",
    "$$p(\\theta|x)  \\propto \\frac{1}{B(\\alpha)} \\prod_{i=1}^{k} \\theta_i^{\\sum_{j=1}^{n}I(x_j=k)}\\prod_{i=1}^{k} \\theta_i^{\\alpha-1} $$\n",
    "$$p(\\theta|x)  \\propto  \\frac{1}{B(\\alpha)} \\prod_{i=1}^{k} \\theta_i^{\\sum_{j=1}^{n}I(x_j=k)} \\theta_i^{\\alpha-1}$$\n",
    "\n",
    "Ou seja,\n",
    "\n",
    "$$p(\\theta|x)  \\propto  \\frac{1}{B(\\alpha)} \\prod_{i=1}^{k} \\theta_i^{(\\sum_{j=1}^{n}I(x_j=k) + \\alpha)-1} $$\n",
    "\n",
    "Nossa posteriori, portanto, é uma distribuição Dirichlet com parâmetro $\\sum_{j=1}^{n}I(x_j=k) + \\alpha$.\n"
   ]
  },
  {
   "attachments": {},
   "cell_type": "markdown",
   "id": "1c074fd5",
   "metadata": {},
   "source": []
  }
 ],
 "metadata": {
  "kernelspec": {
   "display_name": "Python 3",
   "language": "python",
   "name": "python3"
  },
  "language_info": {
   "codemirror_mode": {
    "name": "ipython",
    "version": 3
   },
   "file_extension": ".py",
   "mimetype": "text/x-python",
   "name": "python",
   "nbconvert_exporter": "python",
   "pygments_lexer": "ipython3",
   "version": "3.10.7"
  },
  "vscode": {
   "interpreter": {
    "hash": "350bdfe4fe42b08437cae5afb973e5383729de58e8a12da3833d01445de5962a"
   }
  }
 },
 "nbformat": 4,
 "nbformat_minor": 5
}
